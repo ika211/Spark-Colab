{
  "nbformat": 4,
  "nbformat_minor": 0,
  "metadata": {
    "colab": {
      "name": "Spark-Practice.ipynb",
      "provenance": [],
      "collapsed_sections": [],
      "authorship_tag": "ABX9TyNDbsibXpQMnViV//l1bfwx",
      "include_colab_link": true
    },
    "kernelspec": {
      "name": "python3",
      "display_name": "Python 3"
    },
    "language_info": {
      "name": "python"
    }
  },
  "cells": [
    {
      "cell_type": "markdown",
      "metadata": {
        "id": "view-in-github",
        "colab_type": "text"
      },
      "source": [
        "<a href=\"https://colab.research.google.com/github/ika211/Spark-Colab/blob/main/Spark_Practice.ipynb\" target=\"_parent\"><img src=\"https://colab.research.google.com/assets/colab-badge.svg\" alt=\"Open In Colab\"/></a>"
      ]
    },
    {
      "cell_type": "code",
      "execution_count": 1,
      "metadata": {
        "colab": {
          "base_uri": "https://localhost:8080/"
        },
        "id": "0Gum1X8QC7CC",
        "outputId": "6e9e0ab3-8a5d-49e3-8f9f-4b1d58e3dbec"
      },
      "outputs": [
        {
          "output_type": "stream",
          "name": "stdout",
          "text": [
            "Collecting pyspark\n",
            "  Downloading pyspark-3.2.1.tar.gz (281.4 MB)\n",
            "\u001b[K     |████████████████████████████████| 281.4 MB 36 kB/s \n",
            "\u001b[?25hCollecting py4j==0.10.9.3\n",
            "  Downloading py4j-0.10.9.3-py2.py3-none-any.whl (198 kB)\n",
            "\u001b[K     |████████████████████████████████| 198 kB 62.8 MB/s \n",
            "\u001b[?25hBuilding wheels for collected packages: pyspark\n",
            "  Building wheel for pyspark (setup.py) ... \u001b[?25l\u001b[?25hdone\n",
            "  Created wheel for pyspark: filename=pyspark-3.2.1-py2.py3-none-any.whl size=281853642 sha256=09a1b73107f268575b053b602ba5ffc9a4c4a0b95485727aa04a9109b6d20533\n",
            "  Stored in directory: /root/.cache/pip/wheels/9f/f5/07/7cd8017084dce4e93e84e92efd1e1d5334db05f2e83bcef74f\n",
            "Successfully built pyspark\n",
            "Installing collected packages: py4j, pyspark\n",
            "Successfully installed py4j-0.10.9.3 pyspark-3.2.1\n"
          ]
        }
      ],
      "source": [
        "!pip install pyspark"
      ]
    },
    {
      "cell_type": "code",
      "source": [
        "from pyspark.sql import SparkSession\n",
        "\n",
        "spark = (SparkSession\n",
        "         .builder\n",
        "         .appName('Spark Practice')\n",
        "         .master('local[*]')\n",
        "         .getOrCreate())"
      ],
      "metadata": {
        "id": "jpESxZjODDJm"
      },
      "execution_count": 2,
      "outputs": []
    },
    {
      "cell_type": "code",
      "source": [
        "!ls"
      ],
      "metadata": {
        "colab": {
          "base_uri": "https://localhost:8080/"
        },
        "id": "eN5fur5IQHKA",
        "outputId": "eabc2bf2-5fee-4c26-b12e-ef972aebb923"
      },
      "execution_count": 5,
      "outputs": [
        {
          "output_type": "stream",
          "name": "stdout",
          "text": [
            "sample_data\n"
          ]
        }
      ]
    },
    {
      "cell_type": "code",
      "source": [
        "anscombe = spark.read.json('sample_data/anscombe.json')"
      ],
      "metadata": {
        "id": "y9lpMKbbNim_"
      },
      "execution_count": null,
      "outputs": []
    },
    {
      "cell_type": "code",
      "source": [
        "anscombe = anscombe.select('Series', 'X', 'Y').dropna('all')\n",
        "anscombe.show(5)"
      ],
      "metadata": {
        "colab": {
          "base_uri": "https://localhost:8080/"
        },
        "id": "MlosA326VEM0",
        "outputId": "a2bc68f6-e4dc-45eb-95a7-8b591770535a"
      },
      "execution_count": 20,
      "outputs": [
        {
          "output_type": "stream",
          "name": "stdout",
          "text": [
            "+------+----+----+\n",
            "|Series|   X|   Y|\n",
            "+------+----+----+\n",
            "|     I|10.0|8.04|\n",
            "|     I| 8.0|6.95|\n",
            "|     I|13.0|7.58|\n",
            "|     I| 9.0|8.81|\n",
            "|     I|11.0|8.33|\n",
            "+------+----+----+\n",
            "only showing top 5 rows\n",
            "\n"
          ]
        }
      ]
    },
    {
      "cell_type": "code",
      "source": [
        "series_1 = anscombe.filter('Series = \"I\"').select('X','Y')\n",
        "series_1.show()"
      ],
      "metadata": {
        "colab": {
          "base_uri": "https://localhost:8080/"
        },
        "id": "fLZEELInVHj1",
        "outputId": "9e0f6b21-a604-45be-f915-46c2bed40658"
      },
      "execution_count": 19,
      "outputs": [
        {
          "output_type": "stream",
          "name": "stdout",
          "text": [
            "+----+-----+\n",
            "|   X|    Y|\n",
            "+----+-----+\n",
            "|10.0| 8.04|\n",
            "| 8.0| 6.95|\n",
            "|13.0| 7.58|\n",
            "| 9.0| 8.81|\n",
            "|11.0| 8.33|\n",
            "|14.0| 9.96|\n",
            "| 6.0| 7.24|\n",
            "| 4.0| 4.26|\n",
            "|12.0|10.84|\n",
            "| 7.0| 4.81|\n",
            "| 5.0| 5.68|\n",
            "+----+-----+\n",
            "\n"
          ]
        }
      ]
    },
    {
      "cell_type": "code",
      "source": [
        "series_2 = anscombe.filter('Series = \"II\"').select('X','Y')\n",
        "series_3 = anscombe.filter('Series = \"III\"').select('X','Y')\n",
        "series_4 = anscombe.filter('Series = \"IV\"').select('X','Y')"
      ],
      "metadata": {
        "id": "yvLG93kkWZ0Z"
      },
      "execution_count": 21,
      "outputs": []
    },
    {
      "cell_type": "code",
      "source": [
        "series_2.show()"
      ],
      "metadata": {
        "colab": {
          "base_uri": "https://localhost:8080/"
        },
        "collapsed": true,
        "id": "PkYtvodSXvs-",
        "outputId": "23cd8df7-0e58-4851-b178-b4c1bad490a1"
      },
      "execution_count": 22,
      "outputs": [
        {
          "output_type": "stream",
          "name": "stdout",
          "text": [
            "+----+----+\n",
            "|   X|   Y|\n",
            "+----+----+\n",
            "|10.0|9.14|\n",
            "| 8.0|8.14|\n",
            "|13.0|8.74|\n",
            "| 9.0|8.77|\n",
            "|11.0|9.26|\n",
            "|14.0| 8.1|\n",
            "| 6.0|6.13|\n",
            "| 4.0| 3.1|\n",
            "|12.0|9.13|\n",
            "| 7.0|7.26|\n",
            "| 5.0|4.74|\n",
            "+----+----+\n",
            "\n"
          ]
        }
      ]
    },
    {
      "cell_type": "code",
      "source": [
        "series_3.show()"
      ],
      "metadata": {
        "colab": {
          "base_uri": "https://localhost:8080/"
        },
        "collapsed": true,
        "id": "Vd6YmyEQYWrr",
        "outputId": "f085f7d5-fac1-4717-d264-1c3a4b838d37"
      },
      "execution_count": 28,
      "outputs": [
        {
          "output_type": "stream",
          "name": "stdout",
          "text": [
            "+----+-----+\n",
            "|   X|    Y|\n",
            "+----+-----+\n",
            "|10.0| 7.46|\n",
            "| 8.0| 6.77|\n",
            "|13.0|12.74|\n",
            "| 9.0| 7.11|\n",
            "|11.0| 7.81|\n",
            "|14.0| 8.84|\n",
            "| 6.0| 6.08|\n",
            "| 4.0| 5.39|\n",
            "|12.0| 8.15|\n",
            "| 7.0| 6.42|\n",
            "| 5.0| 5.73|\n",
            "+----+-----+\n",
            "\n"
          ]
        }
      ]
    },
    {
      "cell_type": "code",
      "source": [
        "series_4.show()"
      ],
      "metadata": {
        "colab": {
          "base_uri": "https://localhost:8080/"
        },
        "collapsed": true,
        "id": "EfAp8e9bYBQZ",
        "outputId": "4e57e626-74d7-42cb-85d7-3426237b2280"
      },
      "execution_count": 27,
      "outputs": [
        {
          "output_type": "stream",
          "name": "stdout",
          "text": [
            "+----+----+\n",
            "|   X|   Y|\n",
            "+----+----+\n",
            "| 8.0|6.58|\n",
            "| 8.0|5.76|\n",
            "| 8.0|7.71|\n",
            "| 8.0|8.84|\n",
            "| 8.0|8.47|\n",
            "| 8.0|7.04|\n",
            "| 8.0|5.25|\n",
            "|19.0|12.5|\n",
            "| 8.0|5.56|\n",
            "| 8.0|7.91|\n",
            "| 8.0|6.89|\n",
            "+----+----+\n",
            "\n"
          ]
        }
      ]
    }
  ]
}